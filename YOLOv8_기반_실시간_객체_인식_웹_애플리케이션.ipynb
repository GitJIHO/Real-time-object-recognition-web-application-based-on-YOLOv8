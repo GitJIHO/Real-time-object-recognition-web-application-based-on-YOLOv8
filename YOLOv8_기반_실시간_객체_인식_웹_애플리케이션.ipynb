{
  "nbformat": 4,
  "nbformat_minor": 0,
  "metadata": {
    "colab": {
      "provenance": [],
      "authorship_tag": "ABX9TyMWna1qpYqB1AKmVhLGMVVY",
      "include_colab_link": true
    },
    "kernelspec": {
      "name": "python3",
      "display_name": "Python 3"
    },
    "language_info": {
      "name": "python"
    }
  },
  "cells": [
    {
      "cell_type": "markdown",
      "metadata": {
        "id": "view-in-github",
        "colab_type": "text"
      },
      "source": [
        "<a href=\"https://colab.research.google.com/github/GitJIHO/Real-time-object-recognition-web-application-based-on-YOLOv8/blob/main/YOLOv8_%EA%B8%B0%EB%B0%98_%EC%8B%A4%EC%8B%9C%EA%B0%84_%EA%B0%9D%EC%B2%B4_%EC%9D%B8%EC%8B%9D_%EC%9B%B9_%EC%95%A0%ED%94%8C%EB%A6%AC%EC%BC%80%EC%9D%B4%EC%85%98.ipynb\" target=\"_parent\"><img src=\"https://colab.research.google.com/assets/colab-badge.svg\" alt=\"Open In Colab\"/></a>"
      ]
    },
    {
      "cell_type": "code",
      "execution_count": 1,
      "metadata": {
        "id": "k0Hw6nUb5rr3",
        "colab": {
          "base_uri": "https://localhost:8080/"
        },
        "outputId": "1a769219-b121-4e7b-87fc-43bffdc52ab0"
      },
      "outputs": [
        {
          "output_type": "stream",
          "name": "stdout",
          "text": [
            "Requirement already satisfied: flask in /usr/local/lib/python3.11/dist-packages (3.1.1)\n",
            "Collecting flask-cors\n",
            "  Downloading flask_cors-6.0.0-py3-none-any.whl.metadata (961 bytes)\n",
            "Collecting ultralytics\n",
            "  Downloading ultralytics-8.3.139-py3-none-any.whl.metadata (37 kB)\n",
            "Collecting pyngrok\n",
            "  Downloading pyngrok-7.2.8-py3-none-any.whl.metadata (10 kB)\n",
            "Requirement already satisfied: blinker>=1.9.0 in /usr/local/lib/python3.11/dist-packages (from flask) (1.9.0)\n",
            "Requirement already satisfied: click>=8.1.3 in /usr/local/lib/python3.11/dist-packages (from flask) (8.2.0)\n",
            "Requirement already satisfied: itsdangerous>=2.2.0 in /usr/local/lib/python3.11/dist-packages (from flask) (2.2.0)\n",
            "Requirement already satisfied: jinja2>=3.1.2 in /usr/local/lib/python3.11/dist-packages (from flask) (3.1.6)\n",
            "Requirement already satisfied: markupsafe>=2.1.1 in /usr/local/lib/python3.11/dist-packages (from flask) (3.0.2)\n",
            "Requirement already satisfied: werkzeug>=3.1.0 in /usr/local/lib/python3.11/dist-packages (from flask) (3.1.3)\n",
            "Requirement already satisfied: numpy>=1.23.0 in /usr/local/lib/python3.11/dist-packages (from ultralytics) (2.0.2)\n",
            "Requirement already satisfied: matplotlib>=3.3.0 in /usr/local/lib/python3.11/dist-packages (from ultralytics) (3.10.0)\n",
            "Requirement already satisfied: opencv-python>=4.6.0 in /usr/local/lib/python3.11/dist-packages (from ultralytics) (4.11.0.86)\n",
            "Requirement already satisfied: pillow>=7.1.2 in /usr/local/lib/python3.11/dist-packages (from ultralytics) (11.2.1)\n",
            "Requirement already satisfied: pyyaml>=5.3.1 in /usr/local/lib/python3.11/dist-packages (from ultralytics) (6.0.2)\n",
            "Requirement already satisfied: requests>=2.23.0 in /usr/local/lib/python3.11/dist-packages (from ultralytics) (2.32.3)\n",
            "Requirement already satisfied: scipy>=1.4.1 in /usr/local/lib/python3.11/dist-packages (from ultralytics) (1.15.3)\n",
            "Requirement already satisfied: torch>=1.8.0 in /usr/local/lib/python3.11/dist-packages (from ultralytics) (2.6.0+cu124)\n",
            "Requirement already satisfied: torchvision>=0.9.0 in /usr/local/lib/python3.11/dist-packages (from ultralytics) (0.21.0+cu124)\n",
            "Requirement already satisfied: tqdm>=4.64.0 in /usr/local/lib/python3.11/dist-packages (from ultralytics) (4.67.1)\n",
            "Requirement already satisfied: psutil in /usr/local/lib/python3.11/dist-packages (from ultralytics) (5.9.5)\n",
            "Requirement already satisfied: py-cpuinfo in /usr/local/lib/python3.11/dist-packages (from ultralytics) (9.0.0)\n",
            "Requirement already satisfied: pandas>=1.1.4 in /usr/local/lib/python3.11/dist-packages (from ultralytics) (2.2.2)\n",
            "Collecting ultralytics-thop>=2.0.0 (from ultralytics)\n",
            "  Downloading ultralytics_thop-2.0.14-py3-none-any.whl.metadata (9.4 kB)\n",
            "Requirement already satisfied: contourpy>=1.0.1 in /usr/local/lib/python3.11/dist-packages (from matplotlib>=3.3.0->ultralytics) (1.3.2)\n",
            "Requirement already satisfied: cycler>=0.10 in /usr/local/lib/python3.11/dist-packages (from matplotlib>=3.3.0->ultralytics) (0.12.1)\n",
            "Requirement already satisfied: fonttools>=4.22.0 in /usr/local/lib/python3.11/dist-packages (from matplotlib>=3.3.0->ultralytics) (4.58.0)\n",
            "Requirement already satisfied: kiwisolver>=1.3.1 in /usr/local/lib/python3.11/dist-packages (from matplotlib>=3.3.0->ultralytics) (1.4.8)\n",
            "Requirement already satisfied: packaging>=20.0 in /usr/local/lib/python3.11/dist-packages (from matplotlib>=3.3.0->ultralytics) (24.2)\n",
            "Requirement already satisfied: pyparsing>=2.3.1 in /usr/local/lib/python3.11/dist-packages (from matplotlib>=3.3.0->ultralytics) (3.2.3)\n",
            "Requirement already satisfied: python-dateutil>=2.7 in /usr/local/lib/python3.11/dist-packages (from matplotlib>=3.3.0->ultralytics) (2.9.0.post0)\n",
            "Requirement already satisfied: pytz>=2020.1 in /usr/local/lib/python3.11/dist-packages (from pandas>=1.1.4->ultralytics) (2025.2)\n",
            "Requirement already satisfied: tzdata>=2022.7 in /usr/local/lib/python3.11/dist-packages (from pandas>=1.1.4->ultralytics) (2025.2)\n",
            "Requirement already satisfied: charset-normalizer<4,>=2 in /usr/local/lib/python3.11/dist-packages (from requests>=2.23.0->ultralytics) (3.4.2)\n",
            "Requirement already satisfied: idna<4,>=2.5 in /usr/local/lib/python3.11/dist-packages (from requests>=2.23.0->ultralytics) (3.10)\n",
            "Requirement already satisfied: urllib3<3,>=1.21.1 in /usr/local/lib/python3.11/dist-packages (from requests>=2.23.0->ultralytics) (2.4.0)\n",
            "Requirement already satisfied: certifi>=2017.4.17 in /usr/local/lib/python3.11/dist-packages (from requests>=2.23.0->ultralytics) (2025.4.26)\n",
            "Requirement already satisfied: filelock in /usr/local/lib/python3.11/dist-packages (from torch>=1.8.0->ultralytics) (3.18.0)\n",
            "Requirement already satisfied: typing-extensions>=4.10.0 in /usr/local/lib/python3.11/dist-packages (from torch>=1.8.0->ultralytics) (4.13.2)\n",
            "Requirement already satisfied: networkx in /usr/local/lib/python3.11/dist-packages (from torch>=1.8.0->ultralytics) (3.4.2)\n",
            "Requirement already satisfied: fsspec in /usr/local/lib/python3.11/dist-packages (from torch>=1.8.0->ultralytics) (2025.3.2)\n",
            "Collecting nvidia-cuda-nvrtc-cu12==12.4.127 (from torch>=1.8.0->ultralytics)\n",
            "  Downloading nvidia_cuda_nvrtc_cu12-12.4.127-py3-none-manylinux2014_x86_64.whl.metadata (1.5 kB)\n",
            "Collecting nvidia-cuda-runtime-cu12==12.4.127 (from torch>=1.8.0->ultralytics)\n",
            "  Downloading nvidia_cuda_runtime_cu12-12.4.127-py3-none-manylinux2014_x86_64.whl.metadata (1.5 kB)\n",
            "Collecting nvidia-cuda-cupti-cu12==12.4.127 (from torch>=1.8.0->ultralytics)\n",
            "  Downloading nvidia_cuda_cupti_cu12-12.4.127-py3-none-manylinux2014_x86_64.whl.metadata (1.6 kB)\n",
            "Collecting nvidia-cudnn-cu12==9.1.0.70 (from torch>=1.8.0->ultralytics)\n",
            "  Downloading nvidia_cudnn_cu12-9.1.0.70-py3-none-manylinux2014_x86_64.whl.metadata (1.6 kB)\n",
            "Collecting nvidia-cublas-cu12==12.4.5.8 (from torch>=1.8.0->ultralytics)\n",
            "  Downloading nvidia_cublas_cu12-12.4.5.8-py3-none-manylinux2014_x86_64.whl.metadata (1.5 kB)\n",
            "Collecting nvidia-cufft-cu12==11.2.1.3 (from torch>=1.8.0->ultralytics)\n",
            "  Downloading nvidia_cufft_cu12-11.2.1.3-py3-none-manylinux2014_x86_64.whl.metadata (1.5 kB)\n",
            "Collecting nvidia-curand-cu12==10.3.5.147 (from torch>=1.8.0->ultralytics)\n",
            "  Downloading nvidia_curand_cu12-10.3.5.147-py3-none-manylinux2014_x86_64.whl.metadata (1.5 kB)\n",
            "Collecting nvidia-cusolver-cu12==11.6.1.9 (from torch>=1.8.0->ultralytics)\n",
            "  Downloading nvidia_cusolver_cu12-11.6.1.9-py3-none-manylinux2014_x86_64.whl.metadata (1.6 kB)\n",
            "Collecting nvidia-cusparse-cu12==12.3.1.170 (from torch>=1.8.0->ultralytics)\n",
            "  Downloading nvidia_cusparse_cu12-12.3.1.170-py3-none-manylinux2014_x86_64.whl.metadata (1.6 kB)\n",
            "Requirement already satisfied: nvidia-cusparselt-cu12==0.6.2 in /usr/local/lib/python3.11/dist-packages (from torch>=1.8.0->ultralytics) (0.6.2)\n",
            "Requirement already satisfied: nvidia-nccl-cu12==2.21.5 in /usr/local/lib/python3.11/dist-packages (from torch>=1.8.0->ultralytics) (2.21.5)\n",
            "Requirement already satisfied: nvidia-nvtx-cu12==12.4.127 in /usr/local/lib/python3.11/dist-packages (from torch>=1.8.0->ultralytics) (12.4.127)\n",
            "Collecting nvidia-nvjitlink-cu12==12.4.127 (from torch>=1.8.0->ultralytics)\n",
            "  Downloading nvidia_nvjitlink_cu12-12.4.127-py3-none-manylinux2014_x86_64.whl.metadata (1.5 kB)\n",
            "Requirement already satisfied: triton==3.2.0 in /usr/local/lib/python3.11/dist-packages (from torch>=1.8.0->ultralytics) (3.2.0)\n",
            "Requirement already satisfied: sympy==1.13.1 in /usr/local/lib/python3.11/dist-packages (from torch>=1.8.0->ultralytics) (1.13.1)\n",
            "Requirement already satisfied: mpmath<1.4,>=1.1.0 in /usr/local/lib/python3.11/dist-packages (from sympy==1.13.1->torch>=1.8.0->ultralytics) (1.3.0)\n",
            "Requirement already satisfied: six>=1.5 in /usr/local/lib/python3.11/dist-packages (from python-dateutil>=2.7->matplotlib>=3.3.0->ultralytics) (1.17.0)\n",
            "Downloading flask_cors-6.0.0-py3-none-any.whl (11 kB)\n",
            "Downloading ultralytics-8.3.139-py3-none-any.whl (1.0 MB)\n",
            "\u001b[2K   \u001b[90m━━━━━━━━━━━━━━━━━━━━━━━━━━━━━━━━━━━━━━━━\u001b[0m \u001b[32m1.0/1.0 MB\u001b[0m \u001b[31m9.9 MB/s\u001b[0m eta \u001b[36m0:00:00\u001b[0m\n",
            "\u001b[?25hDownloading pyngrok-7.2.8-py3-none-any.whl (25 kB)\n",
            "Downloading nvidia_cublas_cu12-12.4.5.8-py3-none-manylinux2014_x86_64.whl (363.4 MB)\n",
            "\u001b[2K   \u001b[90m━━━━━━━━━━━━━━━━━━━━━━━━━━━━━━━━━━━━━━━━\u001b[0m \u001b[32m363.4/363.4 MB\u001b[0m \u001b[31m4.2 MB/s\u001b[0m eta \u001b[36m0:00:00\u001b[0m\n",
            "\u001b[?25hDownloading nvidia_cuda_cupti_cu12-12.4.127-py3-none-manylinux2014_x86_64.whl (13.8 MB)\n",
            "\u001b[2K   \u001b[90m━━━━━━━━━━━━━━━━━━━━━━━━━━━━━━━━━━━━━━━━\u001b[0m \u001b[32m13.8/13.8 MB\u001b[0m \u001b[31m53.2 MB/s\u001b[0m eta \u001b[36m0:00:00\u001b[0m\n",
            "\u001b[?25hDownloading nvidia_cuda_nvrtc_cu12-12.4.127-py3-none-manylinux2014_x86_64.whl (24.6 MB)\n",
            "\u001b[2K   \u001b[90m━━━━━━━━━━━━━━━━━━━━━━━━━━━━━━━━━━━━━━━━\u001b[0m \u001b[32m24.6/24.6 MB\u001b[0m \u001b[31m45.6 MB/s\u001b[0m eta \u001b[36m0:00:00\u001b[0m\n",
            "\u001b[?25hDownloading nvidia_cuda_runtime_cu12-12.4.127-py3-none-manylinux2014_x86_64.whl (883 kB)\n",
            "\u001b[2K   \u001b[90m━━━━━━━━━━━━━━━━━━━━━━━━━━━━━━━━━━━━━━━━\u001b[0m \u001b[32m883.7/883.7 kB\u001b[0m \u001b[31m37.7 MB/s\u001b[0m eta \u001b[36m0:00:00\u001b[0m\n",
            "\u001b[?25hDownloading nvidia_cudnn_cu12-9.1.0.70-py3-none-manylinux2014_x86_64.whl (664.8 MB)\n",
            "\u001b[2K   \u001b[90m━━━━━━━━━━━━━━━━━━━━━━━━━━━━━━━━━━━━━━━━\u001b[0m \u001b[32m664.8/664.8 MB\u001b[0m \u001b[31m2.9 MB/s\u001b[0m eta \u001b[36m0:00:00\u001b[0m\n",
            "\u001b[?25hDownloading nvidia_cufft_cu12-11.2.1.3-py3-none-manylinux2014_x86_64.whl (211.5 MB)\n",
            "\u001b[2K   \u001b[90m━━━━━━━━━━━━━━━━━━━━━━━━━━━━━━━━━━━━━━━━\u001b[0m \u001b[32m211.5/211.5 MB\u001b[0m \u001b[31m5.9 MB/s\u001b[0m eta \u001b[36m0:00:00\u001b[0m\n",
            "\u001b[?25hDownloading nvidia_curand_cu12-10.3.5.147-py3-none-manylinux2014_x86_64.whl (56.3 MB)\n",
            "\u001b[2K   \u001b[90m━━━━━━━━━━━━━━━━━━━━━━━━━━━━━━━━━━━━━━━━\u001b[0m \u001b[32m56.3/56.3 MB\u001b[0m \u001b[31m12.3 MB/s\u001b[0m eta \u001b[36m0:00:00\u001b[0m\n",
            "\u001b[?25hDownloading nvidia_cusolver_cu12-11.6.1.9-py3-none-manylinux2014_x86_64.whl (127.9 MB)\n",
            "\u001b[2K   \u001b[90m━━━━━━━━━━━━━━━━━━━━━━━━━━━━━━━━━━━━━━━━\u001b[0m \u001b[32m127.9/127.9 MB\u001b[0m \u001b[31m7.3 MB/s\u001b[0m eta \u001b[36m0:00:00\u001b[0m\n",
            "\u001b[?25hDownloading nvidia_cusparse_cu12-12.3.1.170-py3-none-manylinux2014_x86_64.whl (207.5 MB)\n",
            "\u001b[2K   \u001b[90m━━━━━━━━━━━━━━━━━━━━━━━━━━━━━━━━━━━━━━━━\u001b[0m \u001b[32m207.5/207.5 MB\u001b[0m \u001b[31m6.0 MB/s\u001b[0m eta \u001b[36m0:00:00\u001b[0m\n",
            "\u001b[?25hDownloading nvidia_nvjitlink_cu12-12.4.127-py3-none-manylinux2014_x86_64.whl (21.1 MB)\n",
            "\u001b[2K   \u001b[90m━━━━━━━━━━━━━━━━━━━━━━━━━━━━━━━━━━━━━━━━\u001b[0m \u001b[32m21.1/21.1 MB\u001b[0m \u001b[31m87.1 MB/s\u001b[0m eta \u001b[36m0:00:00\u001b[0m\n",
            "\u001b[?25hDownloading ultralytics_thop-2.0.14-py3-none-any.whl (26 kB)\n",
            "Installing collected packages: pyngrok, nvidia-nvjitlink-cu12, nvidia-curand-cu12, nvidia-cufft-cu12, nvidia-cuda-runtime-cu12, nvidia-cuda-nvrtc-cu12, nvidia-cuda-cupti-cu12, nvidia-cublas-cu12, nvidia-cusparse-cu12, nvidia-cudnn-cu12, nvidia-cusolver-cu12, flask-cors, ultralytics-thop, ultralytics\n",
            "  Attempting uninstall: nvidia-nvjitlink-cu12\n",
            "    Found existing installation: nvidia-nvjitlink-cu12 12.5.82\n",
            "    Uninstalling nvidia-nvjitlink-cu12-12.5.82:\n",
            "      Successfully uninstalled nvidia-nvjitlink-cu12-12.5.82\n",
            "  Attempting uninstall: nvidia-curand-cu12\n",
            "    Found existing installation: nvidia-curand-cu12 10.3.6.82\n",
            "    Uninstalling nvidia-curand-cu12-10.3.6.82:\n",
            "      Successfully uninstalled nvidia-curand-cu12-10.3.6.82\n",
            "  Attempting uninstall: nvidia-cufft-cu12\n",
            "    Found existing installation: nvidia-cufft-cu12 11.2.3.61\n",
            "    Uninstalling nvidia-cufft-cu12-11.2.3.61:\n",
            "      Successfully uninstalled nvidia-cufft-cu12-11.2.3.61\n",
            "  Attempting uninstall: nvidia-cuda-runtime-cu12\n",
            "    Found existing installation: nvidia-cuda-runtime-cu12 12.5.82\n",
            "    Uninstalling nvidia-cuda-runtime-cu12-12.5.82:\n",
            "      Successfully uninstalled nvidia-cuda-runtime-cu12-12.5.82\n",
            "  Attempting uninstall: nvidia-cuda-nvrtc-cu12\n",
            "    Found existing installation: nvidia-cuda-nvrtc-cu12 12.5.82\n",
            "    Uninstalling nvidia-cuda-nvrtc-cu12-12.5.82:\n",
            "      Successfully uninstalled nvidia-cuda-nvrtc-cu12-12.5.82\n",
            "  Attempting uninstall: nvidia-cuda-cupti-cu12\n",
            "    Found existing installation: nvidia-cuda-cupti-cu12 12.5.82\n",
            "    Uninstalling nvidia-cuda-cupti-cu12-12.5.82:\n",
            "      Successfully uninstalled nvidia-cuda-cupti-cu12-12.5.82\n",
            "  Attempting uninstall: nvidia-cublas-cu12\n",
            "    Found existing installation: nvidia-cublas-cu12 12.5.3.2\n",
            "    Uninstalling nvidia-cublas-cu12-12.5.3.2:\n",
            "      Successfully uninstalled nvidia-cublas-cu12-12.5.3.2\n",
            "  Attempting uninstall: nvidia-cusparse-cu12\n",
            "    Found existing installation: nvidia-cusparse-cu12 12.5.1.3\n",
            "    Uninstalling nvidia-cusparse-cu12-12.5.1.3:\n",
            "      Successfully uninstalled nvidia-cusparse-cu12-12.5.1.3\n",
            "  Attempting uninstall: nvidia-cudnn-cu12\n",
            "    Found existing installation: nvidia-cudnn-cu12 9.3.0.75\n",
            "    Uninstalling nvidia-cudnn-cu12-9.3.0.75:\n",
            "      Successfully uninstalled nvidia-cudnn-cu12-9.3.0.75\n",
            "  Attempting uninstall: nvidia-cusolver-cu12\n",
            "    Found existing installation: nvidia-cusolver-cu12 11.6.3.83\n",
            "    Uninstalling nvidia-cusolver-cu12-11.6.3.83:\n",
            "      Successfully uninstalled nvidia-cusolver-cu12-11.6.3.83\n",
            "Successfully installed flask-cors-6.0.0 nvidia-cublas-cu12-12.4.5.8 nvidia-cuda-cupti-cu12-12.4.127 nvidia-cuda-nvrtc-cu12-12.4.127 nvidia-cuda-runtime-cu12-12.4.127 nvidia-cudnn-cu12-9.1.0.70 nvidia-cufft-cu12-11.2.1.3 nvidia-curand-cu12-10.3.5.147 nvidia-cusolver-cu12-11.6.1.9 nvidia-cusparse-cu12-12.3.1.170 nvidia-nvjitlink-cu12-12.4.127 pyngrok-7.2.8 ultralytics-8.3.139 ultralytics-thop-2.0.14\n",
            "Collecting watchdog\n",
            "  Downloading watchdog-6.0.0-py3-none-manylinux2014_x86_64.whl.metadata (44 kB)\n",
            "\u001b[2K     \u001b[90m━━━━━━━━━━━━━━━━━━━━━━━━━━━━━━━━━━━━━━━━\u001b[0m \u001b[32m44.3/44.3 kB\u001b[0m \u001b[31m1.7 MB/s\u001b[0m eta \u001b[36m0:00:00\u001b[0m\n",
            "\u001b[?25hDownloading watchdog-6.0.0-py3-none-manylinux2014_x86_64.whl (79 kB)\n",
            "\u001b[2K   \u001b[90m━━━━━━━━━━━━━━━━━━━━━━━━━━━━━━━━━━━━━━━━\u001b[0m \u001b[32m79.1/79.1 kB\u001b[0m \u001b[31m3.0 MB/s\u001b[0m eta \u001b[36m0:00:00\u001b[0m\n",
            "\u001b[?25hInstalling collected packages: watchdog\n",
            "Successfully installed watchdog-6.0.0\n"
          ]
        }
      ],
      "source": [
        "!pip install flask flask-cors ultralytics pyngrok\n",
        "!pip install watchdog"
      ]
    },
    {
      "cell_type": "code",
      "source": [
        "!pip install ultralytics"
      ],
      "metadata": {
        "id": "PTALlhx65vm0",
        "colab": {
          "base_uri": "https://localhost:8080/"
        },
        "outputId": "34371eaa-3981-4cc0-ecd3-c5699717044a"
      },
      "execution_count": 2,
      "outputs": [
        {
          "output_type": "stream",
          "name": "stdout",
          "text": [
            "Requirement already satisfied: ultralytics in /usr/local/lib/python3.11/dist-packages (8.3.139)\n",
            "Requirement already satisfied: numpy>=1.23.0 in /usr/local/lib/python3.11/dist-packages (from ultralytics) (2.0.2)\n",
            "Requirement already satisfied: matplotlib>=3.3.0 in /usr/local/lib/python3.11/dist-packages (from ultralytics) (3.10.0)\n",
            "Requirement already satisfied: opencv-python>=4.6.0 in /usr/local/lib/python3.11/dist-packages (from ultralytics) (4.11.0.86)\n",
            "Requirement already satisfied: pillow>=7.1.2 in /usr/local/lib/python3.11/dist-packages (from ultralytics) (11.2.1)\n",
            "Requirement already satisfied: pyyaml>=5.3.1 in /usr/local/lib/python3.11/dist-packages (from ultralytics) (6.0.2)\n",
            "Requirement already satisfied: requests>=2.23.0 in /usr/local/lib/python3.11/dist-packages (from ultralytics) (2.32.3)\n",
            "Requirement already satisfied: scipy>=1.4.1 in /usr/local/lib/python3.11/dist-packages (from ultralytics) (1.15.3)\n",
            "Requirement already satisfied: torch>=1.8.0 in /usr/local/lib/python3.11/dist-packages (from ultralytics) (2.6.0+cu124)\n",
            "Requirement already satisfied: torchvision>=0.9.0 in /usr/local/lib/python3.11/dist-packages (from ultralytics) (0.21.0+cu124)\n",
            "Requirement already satisfied: tqdm>=4.64.0 in /usr/local/lib/python3.11/dist-packages (from ultralytics) (4.67.1)\n",
            "Requirement already satisfied: psutil in /usr/local/lib/python3.11/dist-packages (from ultralytics) (5.9.5)\n",
            "Requirement already satisfied: py-cpuinfo in /usr/local/lib/python3.11/dist-packages (from ultralytics) (9.0.0)\n",
            "Requirement already satisfied: pandas>=1.1.4 in /usr/local/lib/python3.11/dist-packages (from ultralytics) (2.2.2)\n",
            "Requirement already satisfied: ultralytics-thop>=2.0.0 in /usr/local/lib/python3.11/dist-packages (from ultralytics) (2.0.14)\n",
            "Requirement already satisfied: contourpy>=1.0.1 in /usr/local/lib/python3.11/dist-packages (from matplotlib>=3.3.0->ultralytics) (1.3.2)\n",
            "Requirement already satisfied: cycler>=0.10 in /usr/local/lib/python3.11/dist-packages (from matplotlib>=3.3.0->ultralytics) (0.12.1)\n",
            "Requirement already satisfied: fonttools>=4.22.0 in /usr/local/lib/python3.11/dist-packages (from matplotlib>=3.3.0->ultralytics) (4.58.0)\n",
            "Requirement already satisfied: kiwisolver>=1.3.1 in /usr/local/lib/python3.11/dist-packages (from matplotlib>=3.3.0->ultralytics) (1.4.8)\n",
            "Requirement already satisfied: packaging>=20.0 in /usr/local/lib/python3.11/dist-packages (from matplotlib>=3.3.0->ultralytics) (24.2)\n",
            "Requirement already satisfied: pyparsing>=2.3.1 in /usr/local/lib/python3.11/dist-packages (from matplotlib>=3.3.0->ultralytics) (3.2.3)\n",
            "Requirement already satisfied: python-dateutil>=2.7 in /usr/local/lib/python3.11/dist-packages (from matplotlib>=3.3.0->ultralytics) (2.9.0.post0)\n",
            "Requirement already satisfied: pytz>=2020.1 in /usr/local/lib/python3.11/dist-packages (from pandas>=1.1.4->ultralytics) (2025.2)\n",
            "Requirement already satisfied: tzdata>=2022.7 in /usr/local/lib/python3.11/dist-packages (from pandas>=1.1.4->ultralytics) (2025.2)\n",
            "Requirement already satisfied: charset-normalizer<4,>=2 in /usr/local/lib/python3.11/dist-packages (from requests>=2.23.0->ultralytics) (3.4.2)\n",
            "Requirement already satisfied: idna<4,>=2.5 in /usr/local/lib/python3.11/dist-packages (from requests>=2.23.0->ultralytics) (3.10)\n",
            "Requirement already satisfied: urllib3<3,>=1.21.1 in /usr/local/lib/python3.11/dist-packages (from requests>=2.23.0->ultralytics) (2.4.0)\n",
            "Requirement already satisfied: certifi>=2017.4.17 in /usr/local/lib/python3.11/dist-packages (from requests>=2.23.0->ultralytics) (2025.4.26)\n",
            "Requirement already satisfied: filelock in /usr/local/lib/python3.11/dist-packages (from torch>=1.8.0->ultralytics) (3.18.0)\n",
            "Requirement already satisfied: typing-extensions>=4.10.0 in /usr/local/lib/python3.11/dist-packages (from torch>=1.8.0->ultralytics) (4.13.2)\n",
            "Requirement already satisfied: networkx in /usr/local/lib/python3.11/dist-packages (from torch>=1.8.0->ultralytics) (3.4.2)\n",
            "Requirement already satisfied: jinja2 in /usr/local/lib/python3.11/dist-packages (from torch>=1.8.0->ultralytics) (3.1.6)\n",
            "Requirement already satisfied: fsspec in /usr/local/lib/python3.11/dist-packages (from torch>=1.8.0->ultralytics) (2025.3.2)\n",
            "Requirement already satisfied: nvidia-cuda-nvrtc-cu12==12.4.127 in /usr/local/lib/python3.11/dist-packages (from torch>=1.8.0->ultralytics) (12.4.127)\n",
            "Requirement already satisfied: nvidia-cuda-runtime-cu12==12.4.127 in /usr/local/lib/python3.11/dist-packages (from torch>=1.8.0->ultralytics) (12.4.127)\n",
            "Requirement already satisfied: nvidia-cuda-cupti-cu12==12.4.127 in /usr/local/lib/python3.11/dist-packages (from torch>=1.8.0->ultralytics) (12.4.127)\n",
            "Requirement already satisfied: nvidia-cudnn-cu12==9.1.0.70 in /usr/local/lib/python3.11/dist-packages (from torch>=1.8.0->ultralytics) (9.1.0.70)\n",
            "Requirement already satisfied: nvidia-cublas-cu12==12.4.5.8 in /usr/local/lib/python3.11/dist-packages (from torch>=1.8.0->ultralytics) (12.4.5.8)\n",
            "Requirement already satisfied: nvidia-cufft-cu12==11.2.1.3 in /usr/local/lib/python3.11/dist-packages (from torch>=1.8.0->ultralytics) (11.2.1.3)\n",
            "Requirement already satisfied: nvidia-curand-cu12==10.3.5.147 in /usr/local/lib/python3.11/dist-packages (from torch>=1.8.0->ultralytics) (10.3.5.147)\n",
            "Requirement already satisfied: nvidia-cusolver-cu12==11.6.1.9 in /usr/local/lib/python3.11/dist-packages (from torch>=1.8.0->ultralytics) (11.6.1.9)\n",
            "Requirement already satisfied: nvidia-cusparse-cu12==12.3.1.170 in /usr/local/lib/python3.11/dist-packages (from torch>=1.8.0->ultralytics) (12.3.1.170)\n",
            "Requirement already satisfied: nvidia-cusparselt-cu12==0.6.2 in /usr/local/lib/python3.11/dist-packages (from torch>=1.8.0->ultralytics) (0.6.2)\n",
            "Requirement already satisfied: nvidia-nccl-cu12==2.21.5 in /usr/local/lib/python3.11/dist-packages (from torch>=1.8.0->ultralytics) (2.21.5)\n",
            "Requirement already satisfied: nvidia-nvtx-cu12==12.4.127 in /usr/local/lib/python3.11/dist-packages (from torch>=1.8.0->ultralytics) (12.4.127)\n",
            "Requirement already satisfied: nvidia-nvjitlink-cu12==12.4.127 in /usr/local/lib/python3.11/dist-packages (from torch>=1.8.0->ultralytics) (12.4.127)\n",
            "Requirement already satisfied: triton==3.2.0 in /usr/local/lib/python3.11/dist-packages (from torch>=1.8.0->ultralytics) (3.2.0)\n",
            "Requirement already satisfied: sympy==1.13.1 in /usr/local/lib/python3.11/dist-packages (from torch>=1.8.0->ultralytics) (1.13.1)\n",
            "Requirement already satisfied: mpmath<1.4,>=1.1.0 in /usr/local/lib/python3.11/dist-packages (from sympy==1.13.1->torch>=1.8.0->ultralytics) (1.3.0)\n",
            "Requirement already satisfied: six>=1.5 in /usr/local/lib/python3.11/dist-packages (from python-dateutil>=2.7->matplotlib>=3.3.0->ultralytics) (1.17.0)\n",
            "Requirement already satisfied: MarkupSafe>=2.0 in /usr/local/lib/python3.11/dist-packages (from jinja2->torch>=1.8.0->ultralytics) (3.0.2)\n"
          ]
        }
      ]
    },
    {
      "cell_type": "code",
      "source": [
        "!apt-get install tree"
      ],
      "metadata": {
        "id": "sUYTprK55ww0",
        "colab": {
          "base_uri": "https://localhost:8080/"
        },
        "outputId": "91d61d04-dbc1-4bfb-9a5c-20adeea62c36"
      },
      "execution_count": 3,
      "outputs": [
        {
          "output_type": "stream",
          "name": "stdout",
          "text": [
            "Reading package lists... Done\n",
            "Building dependency tree... Done\n",
            "Reading state information... Done\n",
            "The following NEW packages will be installed:\n",
            "  tree\n",
            "0 upgraded, 1 newly installed, 0 to remove and 34 not upgraded.\n",
            "Need to get 47.9 kB of archives.\n",
            "After this operation, 116 kB of additional disk space will be used.\n",
            "Get:1 http://archive.ubuntu.com/ubuntu jammy/universe amd64 tree amd64 2.0.2-1 [47.9 kB]\n",
            "Fetched 47.9 kB in 0s (167 kB/s)\n",
            "Selecting previously unselected package tree.\n",
            "(Reading database ... 126102 files and directories currently installed.)\n",
            "Preparing to unpack .../tree_2.0.2-1_amd64.deb ...\n",
            "Unpacking tree (2.0.2-1) ...\n",
            "Setting up tree (2.0.2-1) ...\n",
            "Processing triggers for man-db (2.10.2-1) ...\n"
          ]
        }
      ]
    },
    {
      "cell_type": "code",
      "source": [
        "!ngrok authtoken 2gyEA4CxXXKS2YNj14NZt5xE5aA_5FyGYii4YYS3FnLnS5EUA"
      ],
      "metadata": {
        "id": "SssjegI65ywu",
        "colab": {
          "base_uri": "https://localhost:8080/"
        },
        "outputId": "cb3b0bfd-2b52-493a-f347-de4ab2697326"
      },
      "execution_count": 4,
      "outputs": [
        {
          "output_type": "stream",
          "name": "stdout",
          "text": [
            "Authtoken saved to configuration file: /root/.config/ngrok/ngrok.yml\n"
          ]
        }
      ]
    },
    {
      "cell_type": "code",
      "source": [
        "!ngrok --version"
      ],
      "metadata": {
        "id": "vjfD8SGy5zaT",
        "colab": {
          "base_uri": "https://localhost:8080/"
        },
        "outputId": "a0011d73-5fea-4955-8a59-0ee1bb9720a9"
      },
      "execution_count": 5,
      "outputs": [
        {
          "output_type": "stream",
          "name": "stdout",
          "text": [
            "ngrok version 3.22.1\n",
            "pyngrok version 7.2.8\n"
          ]
        }
      ]
    },
    {
      "cell_type": "code",
      "source": [
        "%%writefile app.py\n",
        "from flask import Flask, request, jsonify, render_template\n",
        "from flask_cors import CORS\n",
        "import os\n",
        "import time\n",
        "import base64\n",
        "import numpy as np\n",
        "import cv2\n",
        "from ultralytics import YOLO\n",
        "import json\n",
        "\n",
        "app = Flask(__name__, template_folder='./www', static_folder='./www', static_url_path='/')\n",
        "CORS(app)\n",
        "\n",
        "model = YOLO('yolov8n.pt')\n",
        "\n",
        "UPLOAD_FOLDER = './uploads'\n",
        "if not os.path.exists(UPLOAD_FOLDER):\n",
        "    os.makedirs(UPLOAD_FOLDER)\n",
        "\n",
        "@app.route('/')\n",
        "def index():\n",
        "    return render_template('index.html')\n",
        "\n",
        "@app.route('/api/detect', methods=['POST'])\n",
        "def detect_objects():\n",
        "    if 'image' not in request.json:\n",
        "        return jsonify({'error': 'No image data provided'}), 400\n",
        "\n",
        "    try:\n",
        "        img_data = request.json['image']\n",
        "        if ',' in img_data:\n",
        "            img_data = img_data.split(',')[1]\n",
        "\n",
        "        img_bytes = base64.b64decode(img_data)\n",
        "        nparr = np.frombuffer(img_bytes, np.uint8)\n",
        "        image = cv2.imdecode(nparr, cv2.IMREAD_COLOR)\n",
        "\n",
        "        timestamp = int(time.time())\n",
        "        img_path = f\"{UPLOAD_FOLDER}/image_{timestamp}.jpg\"\n",
        "        cv2.imwrite(img_path, image)\n",
        "\n",
        "        results = model(image)\n",
        "\n",
        "        detections = []\n",
        "        for r in results:\n",
        "            boxes = r.boxes\n",
        "            for box in boxes:\n",
        "                x1, y1, x2, y2 = box.xyxy[0].tolist()\n",
        "                conf = float(box.conf[0])\n",
        "                cls = int(box.cls[0])\n",
        "                name = model.names[cls]\n",
        "\n",
        "                detections.append({\n",
        "                    'bbox': [x1, y1, x2, y2],\n",
        "                    'confidence': conf,\n",
        "                    'class': cls,\n",
        "                    'name': name\n",
        "                })\n",
        "\n",
        "        return jsonify({\n",
        "            'success': True,\n",
        "            'detections': detections\n",
        "        })\n",
        "\n",
        "    except Exception as e:\n",
        "        return jsonify({'error': str(e)}), 500\n",
        "\n",
        "if __name__ == '__main__':\n",
        "    app.run(host='0.0.0.0', port=3000, debug=True)"
      ],
      "metadata": {
        "id": "0iBCLegA51ZM",
        "colab": {
          "base_uri": "https://localhost:8080/"
        },
        "outputId": "893a0705-8962-4e26-ed4d-0c2917d42a42"
      },
      "execution_count": 6,
      "outputs": [
        {
          "output_type": "stream",
          "name": "stdout",
          "text": [
            "Writing app.py\n"
          ]
        }
      ]
    },
    {
      "cell_type": "code",
      "source": [
        "!mkdir -p www/js"
      ],
      "metadata": {
        "id": "hwx1USTE5_A8"
      },
      "execution_count": 8,
      "outputs": []
    },
    {
      "cell_type": "code",
      "source": [
        "%%writefile www/index.html\n",
        "<!DOCTYPE html>\n",
        "<html lang=\"ko\">\n",
        "<head>\n",
        "    <meta charset=\"UTF-8\">\n",
        "    <meta name=\"viewport\" content=\"width=device-width, initial-scale=1.0\">\n",
        "    <title>YOLOv8 객체 인식</title>\n",
        "    <link rel=\"stylesheet\" href=\"https://cdnjs.cloudflare.com/ajax/libs/bootstrap/5.2.3/css/bootstrap.min.css\">\n",
        "    <style>\n",
        "        body {\n",
        "            font-family: Arial, sans-serif;\n",
        "            padding: 20px;\n",
        "            max-width: 600px;\n",
        "            margin: 0 auto;\n",
        "        }\n",
        "        .camera-container {\n",
        "            position: relative;\n",
        "            width: 100%;\n",
        "            max-width: 500px;\n",
        "            margin: 0 auto;\n",
        "        }\n",
        "        #videoElement {\n",
        "            width: 100%;\n",
        "            background-color: #666;\n",
        "        }\n",
        "        #canvasElement {\n",
        "            position: absolute;\n",
        "            top: 0;\n",
        "            left: 0;\n",
        "            width: 100%;\n",
        "            height: 100%;\n",
        "        }\n",
        "        .controls {\n",
        "            margin: 20px 0;\n",
        "            display: flex;\n",
        "            justify-content: space-between;\n",
        "        }\n",
        "        .detection-list {\n",
        "            margin-top: 20px;\n",
        "            padding: 10px;\n",
        "            background-color: #f8f9fa;\n",
        "            border-radius: 5px;\n",
        "            max-height: 200px;\n",
        "            overflow-y: auto;\n",
        "        }\n",
        "        .detection-item {\n",
        "            display: flex;\n",
        "            justify-content: space-between;\n",
        "            padding: 5px 0;\n",
        "            border-bottom: 1px solid #dee2e6;\n",
        "        }\n",
        "        .spinner-border {\n",
        "            display: none;\n",
        "        }\n",
        "    </style>\n",
        "</head>\n",
        "<body>\n",
        "    <div id=\"app\"></div>\n",
        "    <script src=\"https://cdnjs.cloudflare.com/ajax/libs/react/18.2.0/umd/react.production.min.js\"></script>\n",
        "    <script src=\"https://cdnjs.cloudflare.com/ajax/libs/react-dom/18.2.0/umd/react-dom.production.min.js\"></script>\n",
        "    <script src=\"https://cdnjs.cloudflare.com/ajax/libs/babel-standalone/7.21.2/babel.min.js\"></script>\n",
        "    <script type=\"text/babel\" src=\"js/app.js\"></script>\n",
        "</body>\n",
        "</html>"
      ],
      "metadata": {
        "id": "fNMAF3bc5_gK",
        "colab": {
          "base_uri": "https://localhost:8080/"
        },
        "outputId": "3d17ffa2-5394-4fd5-d9a6-a19b6f4652c1"
      },
      "execution_count": 9,
      "outputs": [
        {
          "output_type": "stream",
          "name": "stdout",
          "text": [
            "Writing www/index.html\n"
          ]
        }
      ]
    },
    {
      "cell_type": "code",
      "source": [
        "%%writefile www/js/app.js\n",
        "const { useState, useEffect, useRef } = React;\n",
        "\n",
        "const App = () => {\n",
        "    const [cameraMode, setCameraMode] = useState('environment');\n",
        "    const [detections, setDetections] = useState([]);\n",
        "    const [isProcessing, setIsProcessing] = useState(false);\n",
        "    const [errorMessage, setErrorMessage] = useState('');\n",
        "    const videoRef = useRef(null);\n",
        "    const canvasRef = useRef(null);\n",
        "    const streamRef = useRef(null);\n",
        "    const timerRef = useRef(null);\n",
        "\n",
        "    useEffect(() => {\n",
        "        startCamera();\n",
        "        return () => {\n",
        "            stopCamera();\n",
        "            if (timerRef.current) {\n",
        "                clearInterval(timerRef.current);\n",
        "            }\n",
        "        };\n",
        "    }, [cameraMode]);\n",
        "\n",
        "    const startCamera = async () => {\n",
        "        try {\n",
        "            if (streamRef.current) {\n",
        "                stopCamera();\n",
        "            }\n",
        "\n",
        "            const constraints = {\n",
        "                video: {\n",
        "                    facingMode: cameraMode\n",
        "                }\n",
        "            };\n",
        "\n",
        "            const stream = await navigator.mediaDevices.getUserMedia(constraints);\n",
        "            streamRef.current = stream;\n",
        "\n",
        "            if (videoRef.current) {\n",
        "                videoRef.current.srcObject = stream;\n",
        "                videoRef.current.play();\n",
        "\n",
        "                videoRef.current.onloadedmetadata = () => {\n",
        "                    if (canvasRef.current) {\n",
        "                        canvasRef.current.width = videoRef.current.videoWidth;\n",
        "                        canvasRef.current.height = videoRef.current.videoHeight;\n",
        "                    }\n",
        "\n",
        "                    timerRef.current = setInterval(() => {\n",
        "                        if (!isProcessing) {\n",
        "                            detectObjects();\n",
        "                        }\n",
        "                    }, 10000);\n",
        "                };\n",
        "            }\n",
        "        } catch (err) {\n",
        "            setErrorMessage(`카메라 접근 오류: ${err.message}`);\n",
        "            console.error('카메라 접근 오류:', err);\n",
        "        }\n",
        "    };\n",
        "\n",
        "    const stopCamera = () => {\n",
        "        if (streamRef.current) {\n",
        "            streamRef.current.getTracks().forEach(track => track.stop());\n",
        "            streamRef.current = null;\n",
        "        }\n",
        "    };\n",
        "\n",
        "    const switchCamera = () => {\n",
        "        setCameraMode(prev => prev === 'environment' ? 'user' : 'environment');\n",
        "    };\n",
        "\n",
        "    const captureImage = () => {\n",
        "        if (!videoRef.current || !canvasRef.current) return null;\n",
        "\n",
        "        const canvas = document.createElement('canvas');\n",
        "        canvas.width = videoRef.current.videoWidth;\n",
        "        canvas.height = videoRef.current.videoHeight;\n",
        "\n",
        "        const ctx = canvas.getContext('2d');\n",
        "        ctx.drawImage(videoRef.current, 0, 0, canvas.width, canvas.height);\n",
        "\n",
        "        return canvas.toDataURL('image/jpeg');\n",
        "    };\n",
        "\n",
        "    const detectObjects = async () => {\n",
        "        if (!videoRef.current || !canvasRef.current) return;\n",
        "\n",
        "        try {\n",
        "            setIsProcessing(true);\n",
        "            const imageData = captureImage();\n",
        "\n",
        "            if (!imageData) {\n",
        "                console.error('이미지 캡처 실패');\n",
        "                return;\n",
        "            }\n",
        "\n",
        "            const response = await fetch('/api/detect', {\n",
        "                method: 'POST',\n",
        "                headers: {\n",
        "                    'Content-Type': 'application/json',\n",
        "                },\n",
        "                body: JSON.stringify({ image: imageData }),\n",
        "            });\n",
        "\n",
        "            const result = await response.json();\n",
        "\n",
        "            if (result.success) {\n",
        "                console.log('감지 결과:', result.detections);\n",
        "                setDetections(result.detections);\n",
        "                drawDetections(result.detections);\n",
        "            } else {\n",
        "                console.error('객체 감지 오류:', result.error);\n",
        "                setErrorMessage(`객체 감지 오류: ${result.error}`);\n",
        "            }\n",
        "        } catch (err) {\n",
        "            console.error('API 요청 오류:', err);\n",
        "            setErrorMessage(`API 요청 오류: ${err.message}`);\n",
        "        } finally {\n",
        "            setIsProcessing(false);\n",
        "        }\n",
        "    };\n",
        "\n",
        "    const drawDetections = (detectionResults) => {\n",
        "        if (!canvasRef.current || !videoRef.current) return;\n",
        "\n",
        "        const canvas = canvasRef.current;\n",
        "        const ctx = canvas.getContext('2d');\n",
        "\n",
        "        ctx.clearRect(0, 0, canvas.width, canvas.height);\n",
        "\n",
        "        const scaleX = canvas.width / videoRef.current.videoWidth;\n",
        "        const scaleY = canvas.height / videoRef.current.videoHeight;\n",
        "\n",
        "        detectionResults.forEach(detection => {\n",
        "            const [x1, y1, x2, y2] = detection.bbox;\n",
        "            const scaledX1 = x1 * scaleX;\n",
        "            const scaledY1 = y1 * scaleY;\n",
        "            const scaledWidth = (x2 - x1) * scaleX;\n",
        "            const scaledHeight = (y2 - y1) * scaleY;\n",
        "\n",
        "            ctx.strokeStyle = '#00FF00';\n",
        "            ctx.lineWidth = 2;\n",
        "            ctx.strokeRect(scaledX1, scaledY1, scaledWidth, scaledHeight);\n",
        "\n",
        "            const label = `${detection.name} ${Math.round(detection.confidence * 100)}%`;\n",
        "            const textWidth = ctx.measureText(label).width;\n",
        "            ctx.fillStyle = 'rgba(0, 0, 0, 0.7)';\n",
        "            ctx.fillRect(scaledX1, scaledY1 - 20, textWidth + 10, 20);\n",
        "\n",
        "            ctx.fillStyle = '#FFFFFF';\n",
        "            ctx.font = '16px Arial';\n",
        "            ctx.fillText(label, scaledX1 + 5, scaledY1 - 5);\n",
        "        });\n",
        "    };\n",
        "\n",
        "    const renderDetectionList = () => {\n",
        "        if (detections.length === 0) {\n",
        "            return <p>감지된 객체가 없습니다.</p>;\n",
        "        }\n",
        "\n",
        "        const groupedDetections = {};\n",
        "        detections.forEach(detection => {\n",
        "            const name = detection.name;\n",
        "            if (!groupedDetections[name]) {\n",
        "                groupedDetections[name] = 0;\n",
        "            }\n",
        "            groupedDetections[name]++;\n",
        "        });\n",
        "\n",
        "        return (\n",
        "            <div>\n",
        "                <h5>감지된 객체</h5>\n",
        "                {Object.entries(groupedDetections).map(([name, count], index) => (\n",
        "                    <div key={index} className=\"detection-item\">\n",
        "                        <span>{name}</span>\n",
        "                        <span className=\"badge bg-primary\">{count}</span>\n",
        "                    </div>\n",
        "                ))}\n",
        "                <p className=\"mt-2\">총 {detections.length}개 객체 감지됨</p>\n",
        "            </div>\n",
        "        );\n",
        "    };\n",
        "\n",
        "    return (\n",
        "        <div className=\"container\">\n",
        "            <h1 className=\"text-center mb-4\">YOLOv8 객체 인식</h1>\n",
        "\n",
        "            {errorMessage && (\n",
        "                <div className=\"alert alert-danger\" role=\"alert\">\n",
        "                    {errorMessage}\n",
        "                </div>\n",
        "            )}\n",
        "\n",
        "            <div className=\"camera-container\">\n",
        "                <video ref={videoRef} id=\"videoElement\" autoPlay playsInline></video>\n",
        "                <canvas ref={canvasRef} id=\"canvasElement\"></canvas>\n",
        "            </div>\n",
        "\n",
        "            <div className=\"controls mt-3\">\n",
        "                <button\n",
        "                    className=\"btn btn-primary\"\n",
        "                    onClick={switchCamera}\n",
        "                >\n",
        "                    {cameraMode === 'environment' ? '전면 카메라로 전환' : '후면 카메라로 전환'}\n",
        "                </button>\n",
        "\n",
        "                <button\n",
        "                    className=\"btn btn-success\"\n",
        "                    onClick={detectObjects}\n",
        "                    disabled={isProcessing}\n",
        "                >\n",
        "                    객체 감지\n",
        "                    {isProcessing && (\n",
        "                        <span className=\"spinner-border spinner-border-sm ms-2\" role=\"status\" aria-hidden=\"true\"></span>\n",
        "                    )}\n",
        "                </button>\n",
        "            </div>\n",
        "\n",
        "            <div className=\"detection-list mt-3\">\n",
        "                {renderDetectionList()}\n",
        "            </div>\n",
        "        </div>\n",
        "    );\n",
        "};\n",
        "\n",
        "ReactDOM.render(<App />, document.getElementById('app'));"
      ],
      "metadata": {
        "id": "6XJjwZ6L6Af6",
        "colab": {
          "base_uri": "https://localhost:8080/"
        },
        "outputId": "4c3a3d14-26b1-4416-e004-1cfc85ae5a87"
      },
      "execution_count": 10,
      "outputs": [
        {
          "output_type": "stream",
          "name": "stdout",
          "text": [
            "Writing www/js/app.js\n"
          ]
        }
      ]
    },
    {
      "cell_type": "code",
      "source": [
        "from ultralytics import YOLO\n",
        "model = YOLO('yolov8n.pt')"
      ],
      "metadata": {
        "id": "ez-hje-46I09",
        "colab": {
          "base_uri": "https://localhost:8080/"
        },
        "outputId": "6c7e511a-0c55-4aca-ad6a-dea631281b7b"
      },
      "execution_count": 11,
      "outputs": [
        {
          "output_type": "stream",
          "name": "stdout",
          "text": [
            "Creating new Ultralytics Settings v0.0.6 file ✅ \n",
            "View Ultralytics Settings with 'yolo settings' or at '/root/.config/Ultralytics/settings.json'\n",
            "Update Settings with 'yolo settings key=value', i.e. 'yolo settings runs_dir=path/to/dir'. For help see https://docs.ultralytics.com/quickstart/#ultralytics-settings.\n",
            "Downloading https://github.com/ultralytics/assets/releases/download/v8.3.0/yolov8n.pt to 'yolov8n.pt'...\n"
          ]
        },
        {
          "output_type": "stream",
          "name": "stderr",
          "text": [
            "100%|██████████| 6.25M/6.25M [00:00<00:00, 56.9MB/s]\n"
          ]
        }
      ]
    },
    {
      "cell_type": "code",
      "source": [
        "!mkdir -p uploads"
      ],
      "metadata": {
        "id": "UtrhVqc46PZs"
      },
      "execution_count": 13,
      "outputs": []
    },
    {
      "cell_type": "code",
      "source": [
        "%%writefile run_server.py\n",
        "import subprocess\n",
        "import time\n",
        "from pyngrok import ngrok\n",
        "\n",
        "server_process = subprocess.Popen([\"python\", \"app.py\"])\n",
        "print(\"Flask 서버가 시작되었습니다.\")\n",
        "\n",
        "http_tunnel = ngrok.connect(3000)\n",
        "print(f\"ngrok 터널이 생성되었습니다: {http_tunnel.public_url}\")\n",
        "\n",
        "try:\n",
        "    while True:\n",
        "        time.sleep(1)\n",
        "except KeyboardInterrupt:\n",
        "    server_process.terminate()\n",
        "    ngrok.kill()"
      ],
      "metadata": {
        "id": "HgnqZ_8o53Vw",
        "colab": {
          "base_uri": "https://localhost:8080/"
        },
        "outputId": "ce55817e-0f22-4668-ec6d-926ef6a32e66"
      },
      "execution_count": 16,
      "outputs": [
        {
          "output_type": "stream",
          "name": "stdout",
          "text": [
            "Overwriting run_server.py\n"
          ]
        }
      ]
    },
    {
      "cell_type": "code",
      "source": [
        "!tree"
      ],
      "metadata": {
        "id": "iq7Zq3Cf6N2o",
        "colab": {
          "base_uri": "https://localhost:8080/"
        },
        "outputId": "89e497cc-817c-4d17-89a9-c79f2cc5d569"
      },
      "execution_count": 15,
      "outputs": [
        {
          "output_type": "stream",
          "name": "stdout",
          "text": [
            "\u001b[01;34m.\u001b[0m\n",
            "├── \u001b[00mapp.py\u001b[0m\n",
            "├── \u001b[00mrun_server.py\u001b[0m\n",
            "├── \u001b[01;34msample_data\u001b[0m\n",
            "│   ├── \u001b[01;32manscombe.json\u001b[0m\n",
            "│   ├── \u001b[00mcalifornia_housing_test.csv\u001b[0m\n",
            "│   ├── \u001b[00mcalifornia_housing_train.csv\u001b[0m\n",
            "│   ├── \u001b[00mmnist_test.csv\u001b[0m\n",
            "│   ├── \u001b[00mmnist_train_small.csv\u001b[0m\n",
            "│   └── \u001b[01;32mREADME.md\u001b[0m\n",
            "├── \u001b[01;34muploads\u001b[0m\n",
            "│   ├── \u001b[01;35mimage_1747581161.jpg\u001b[0m\n",
            "│   └── \u001b[01;35mimage_1747581169.jpg\u001b[0m\n",
            "├── \u001b[01;34mwww\u001b[0m\n",
            "│   ├── \u001b[00mindex.html\u001b[0m\n",
            "│   └── \u001b[01;34mjs\u001b[0m\n",
            "│       └── \u001b[00mapp.js\u001b[0m\n",
            "└── \u001b[00myolov8n.pt\u001b[0m\n",
            "\n",
            "4 directories, 13 files\n"
          ]
        }
      ]
    },
    {
      "cell_type": "code",
      "source": [
        "!python run_server.py"
      ],
      "metadata": {
        "id": "AJng3QAL6QTp",
        "colab": {
          "base_uri": "https://localhost:8080/"
        },
        "outputId": "432648e5-57d9-417d-92ae-a6b87515811f"
      },
      "execution_count": 14,
      "outputs": [
        {
          "output_type": "stream",
          "name": "stdout",
          "text": [
            "Flask 서버가 시작되었습니다.\n",
            "ngrok 터널이 생성되었습니다: https://ca8a-34-106-107-101.ngrok-free.app\n",
            " * Serving Flask app 'app'\n",
            " * Debug mode: on\n",
            "\u001b[31m\u001b[1mWARNING: This is a development server. Do not use it in a production deployment. Use a production WSGI server instead.\u001b[0m\n",
            " * Running on all addresses (0.0.0.0)\n",
            " * Running on http://127.0.0.1:3000\n",
            " * Running on http://172.28.0.12:3000\n",
            "\u001b[33mPress CTRL+C to quit\u001b[0m\n",
            " * Restarting with watchdog (inotify)\n",
            " * Debugger is active!\n",
            " * Debugger PIN: 347-788-323\n",
            "127.0.0.1 - - [18/May/2025 15:12:33] \"GET / HTTP/1.1\" 200 -\n",
            "127.0.0.1 - - [18/May/2025 15:12:35] \"GET / HTTP/1.1\" 200 -\n",
            "127.0.0.1 - - [18/May/2025 15:12:35] \"GET /js/app.js HTTP/1.1\" 200 -\n",
            "127.0.0.1 - - [18/May/2025 15:12:35] \"\u001b[33mGET /favicon.ico HTTP/1.1\u001b[0m\" 404 -\n",
            "\n",
            "\n",
            "0: 480x640 1 person, 307.6ms\n",
            "Speed: 10.6ms preprocess, 307.6ms inference, 21.3ms postprocess per image at shape (1, 3, 480, 640)\n",
            "127.0.0.1 - - [18/May/2025 15:12:50] \"POST /api/detect HTTP/1.1\" 200 -\n",
            "0: 480x640 1 person, 203.0ms\n",
            "Speed: 9.4ms preprocess, 203.0ms inference, 1.4ms postprocess per image at shape (1, 3, 480, 640)\n",
            "127.0.0.1 - - [18/May/2025 15:12:50] \"POST /api/detect HTTP/1.1\" 200 -\n"
          ]
        }
      ]
    }
  ]
}